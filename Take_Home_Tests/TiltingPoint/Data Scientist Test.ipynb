{
 "cells": [
  {
   "cell_type": "markdown",
   "metadata": {},
   "source": [
    "## Tilting Point Data Scientist Technical Challenge\n",
    "#### 1. You are free to use any package that you deem necessary, the basic pacakge is already imported\n",
    "#### 2. After each question, there will be an answer area, you can add as many cells as you deem necessary between answer and following question\n",
    "#### 3. You have 1.5 hours to complete the challenge, quality will be preferred over quantity"
   ]
  },
  {
   "cell_type": "code",
   "execution_count": 1,
   "metadata": {},
   "outputs": [],
   "source": [
    "from pandas import *\n",
    "import numpy as np\n",
    "import pandas as pd\n",
    "import matplotlib as plt\n",
    "%matplotlib inline\n",
    "#Please import your own package here"
   ]
  },
  {
   "cell_type": "markdown",
   "metadata": {
    "collapsed": true
   },
   "source": [
    "### Question 1: SQL"
   ]
  },
  {
   "cell_type": "markdown",
   "metadata": {
    "collapsed": true
   },
   "source": [
    "country|longname|Network|platform|install_time|User_ID|paid\n",
    "---|-----------------------------------------------------------------------------------------\n",
    "TR|com.thirdtime.derbyking|Organic|iOS|5/4/2016 13:36|D5655090-33CB-49B0-A8C4-FCC493AD33F4|0\n",
    "US|com.thirdtime.derbyking|Facebook|iOS|6/17/2016 1:57|CBC92E11-F642-46D3-93CF-7F3A182B20BB|0\n",
    "CN|com.spotlight.tropicalwars|Organic|iOS|4/27/2016 14:52|B8331894-4BFC-4714-A232-FA65F4401F29|0\n",
    "DE|com.thirdtime.derbyking|Facebook|iOS|6/16/2016 11:37|90FCCFF2-E268-4466-9D22-99CCCEF9A4AB|0\n",
    "FR|com.spotlight.languinis|Organic|iOS|5/15/2015 7:52|50D23049-BAA3-4755-BECA-1D3F8EE81F80|0.65\n",
    "BE|com.thirdtime.derbyking|Facebook|iOS|6/14/2016 17:04|D7AFBF03-C5F6-44FF-86E7-40A9840D2023|0\n",
    "FR|com.thirdtime.derbyking|Facebook|iOS|6/17/2016 8:44|B1596A58-C7CD-4BDF-BEE7-7B0DBD4FDA2F|0\n",
    "US|com.thirdtime.derbyking|Facebook|iOS|6/13/2016 1:15|9826D3AA-5F43-416D-B440-2EC5750EB529|0\n",
    "                                                                   ...\n",
    "                                                                   ...\n",
    "                                                                   ..."
   ]
  },
  {
   "cell_type": "markdown",
   "metadata": {},
   "source": [
    "\n",
    "Given excerpt of data above, Write a query to create a report, output should look like below:\n",
    "\n",
    "(if long name contains derbyking, then game name=’Photo Finish Horse Racing’,\n",
    "\n",
    "if long name contains languinis, then game name=’Languinis’,\n",
    "\n",
    "if long name contains tropicalwars, then game name=’Tropical Wars’)"
   ]
  },
  {
   "cell_type": "markdown",
   "metadata": {},
   "source": [
    "Game Name|Network|Unique Players Count (Using User_id)|Uniqu Players in US|Unique Paid Players|Total Revenue\n",
    "---------------|----\n",
    "Photo Finish Horse Racing|Facebook|400|100|1|100.55\n",
    "Photo Finish Horse Racing|Instagram|300|200|0|0\n",
    "Languinis|Facebook|20|10|4|0.65\n",
    "Languinis|Organic|10|5|1|0\n",
    "Tropical Wars|Facebook|40|20|3|5.49\n",
    "\n"
   ]
  },
  {
   "cell_type": "markdown",
   "metadata": {},
   "source": [
    "#### Please write the SQL code below, note there is no interpreter for this one\n",
    "\n",
    "Answer:\n",
    "\n",
    "Create table Report (Game_Name char (50)) as\n",
    "\n",
    "Select *,  (case\n",
    "\n",
    "when charindex(‘derbyking’,@longname)  > 0 then ‘Photo Finish Horse Racing’\n",
    "\n",
    "when charindex(‘languinis’,@longname)  > 0 then ‘Languinis’\n",
    "\n",
    "when charindex(‘tropicalwars’,@longname)  > 0 then ‘Tropical Wars’\n",
    "\n",
    "end) as Game_Name,\n",
    "\n",
    "count (distinct User_ID ) as Unique_Players_Count,\n",
    "\n",
    "count (distinct User_ID (case when country = ‘US’ then User_ID end) as\n",
    "Unique_Players_in_US,\n",
    "\n",
    "count (distinct User_ID (case when paid > 0 then User_ID end) as\n",
    "Unique_Paid_Players,\n",
    "\n",
    "sum(paid)\n",
    "\n",
    "from Old_table\n",
    "\n",
    "group by Game_Name Network;"
   ]
  },
  {
   "cell_type": "markdown",
   "metadata": {},
   "source": [
    "### Question 2: Statistics"
   ]
  },
  {
   "cell_type": "code",
   "execution_count": 2,
   "metadata": {},
   "outputs": [
    {
     "data": {
      "text/html": [
       "<div>\n",
       "<style scoped>\n",
       "    .dataframe tbody tr th:only-of-type {\n",
       "        vertical-align: middle;\n",
       "    }\n",
       "\n",
       "    .dataframe tbody tr th {\n",
       "        vertical-align: top;\n",
       "    }\n",
       "\n",
       "    .dataframe thead th {\n",
       "        text-align: right;\n",
       "    }\n",
       "</style>\n",
       "<table border=\"1\" class=\"dataframe\">\n",
       "  <thead>\n",
       "    <tr style=\"text-align: right;\">\n",
       "      <th></th>\n",
       "      <th>Experience Name</th>\n",
       "      <th>Platform</th>\n",
       "      <th>Experience</th>\n",
       "      <th>Unique User</th>\n",
       "      <th>Payer</th>\n",
       "      <th>Total Revenue</th>\n",
       "      <th>Purchase</th>\n",
       "      <th>Day1 Retention</th>\n",
       "      <th>Day3 Retention</th>\n",
       "      <th>Day7 Retention</th>\n",
       "      <th>Day14 Retention</th>\n",
       "    </tr>\n",
       "  </thead>\n",
       "  <tbody>\n",
       "    <tr>\n",
       "      <th>0</th>\n",
       "      <td>WW_confirm_purchase_OFF_control_A</td>\n",
       "      <td>android</td>\n",
       "      <td>458</td>\n",
       "      <td>23143</td>\n",
       "      <td>498</td>\n",
       "      <td>6203.20</td>\n",
       "      <td>1433</td>\n",
       "      <td>0.357262</td>\n",
       "      <td>0.253567</td>\n",
       "      <td>0.181540</td>\n",
       "      <td>0.125000</td>\n",
       "    </tr>\n",
       "    <tr>\n",
       "      <th>1</th>\n",
       "      <td>WW_confirm_purchase_OFF_control_B</td>\n",
       "      <td>android</td>\n",
       "      <td>459</td>\n",
       "      <td>22428</td>\n",
       "      <td>485</td>\n",
       "      <td>5953.29</td>\n",
       "      <td>1433</td>\n",
       "      <td>0.355648</td>\n",
       "      <td>0.256830</td>\n",
       "      <td>0.181808</td>\n",
       "      <td>0.098742</td>\n",
       "    </tr>\n",
       "    <tr>\n",
       "      <th>2</th>\n",
       "      <td>WW_confirm_purchase_OFF_test_A</td>\n",
       "      <td>android</td>\n",
       "      <td>460</td>\n",
       "      <td>23209</td>\n",
       "      <td>509</td>\n",
       "      <td>5159.74</td>\n",
       "      <td>1512</td>\n",
       "      <td>0.352575</td>\n",
       "      <td>0.247781</td>\n",
       "      <td>0.170390</td>\n",
       "      <td>0.119962</td>\n",
       "    </tr>\n",
       "    <tr>\n",
       "      <th>3</th>\n",
       "      <td>WW_confirm_purchase_OFF_test_B</td>\n",
       "      <td>android</td>\n",
       "      <td>461</td>\n",
       "      <td>23483</td>\n",
       "      <td>531</td>\n",
       "      <td>10724.15</td>\n",
       "      <td>1639</td>\n",
       "      <td>0.360458</td>\n",
       "      <td>0.252631</td>\n",
       "      <td>0.174685</td>\n",
       "      <td>0.145545</td>\n",
       "    </tr>\n",
       "    <tr>\n",
       "      <th>4</th>\n",
       "      <td>WW_confirm_purchase_OFF_control_A</td>\n",
       "      <td>ios</td>\n",
       "      <td>458</td>\n",
       "      <td>26785</td>\n",
       "      <td>712</td>\n",
       "      <td>10792.34</td>\n",
       "      <td>2366</td>\n",
       "      <td>0.367902</td>\n",
       "      <td>0.272985</td>\n",
       "      <td>0.211518</td>\n",
       "      <td>0.138028</td>\n",
       "    </tr>\n",
       "    <tr>\n",
       "      <th>5</th>\n",
       "      <td>WW_confirm_purchase_OFF_control_B</td>\n",
       "      <td>ios</td>\n",
       "      <td>459</td>\n",
       "      <td>25910</td>\n",
       "      <td>737</td>\n",
       "      <td>11671.16</td>\n",
       "      <td>2384</td>\n",
       "      <td>0.359198</td>\n",
       "      <td>0.270529</td>\n",
       "      <td>0.208895</td>\n",
       "      <td>0.133895</td>\n",
       "    </tr>\n",
       "    <tr>\n",
       "      <th>6</th>\n",
       "      <td>WW_confirm_purchase_OFF_test_A</td>\n",
       "      <td>ios</td>\n",
       "      <td>460</td>\n",
       "      <td>26384</td>\n",
       "      <td>789</td>\n",
       "      <td>13371.70</td>\n",
       "      <td>2630</td>\n",
       "      <td>0.356004</td>\n",
       "      <td>0.271130</td>\n",
       "      <td>0.206923</td>\n",
       "      <td>0.123989</td>\n",
       "    </tr>\n",
       "    <tr>\n",
       "      <th>7</th>\n",
       "      <td>WW_confirm_purchase_OFF_test_B</td>\n",
       "      <td>ios</td>\n",
       "      <td>461</td>\n",
       "      <td>26990</td>\n",
       "      <td>792</td>\n",
       "      <td>11877.18</td>\n",
       "      <td>2582</td>\n",
       "      <td>0.362288</td>\n",
       "      <td>0.276438</td>\n",
       "      <td>0.203038</td>\n",
       "      <td>0.111969</td>\n",
       "    </tr>\n",
       "  </tbody>\n",
       "</table>\n",
       "</div>"
      ],
      "text/plain": [
       "                     Experience Name Platform  Experience  Unique User  Payer  \\\n",
       "0  WW_confirm_purchase_OFF_control_A  android         458        23143    498   \n",
       "1  WW_confirm_purchase_OFF_control_B  android         459        22428    485   \n",
       "2     WW_confirm_purchase_OFF_test_A  android         460        23209    509   \n",
       "3     WW_confirm_purchase_OFF_test_B  android         461        23483    531   \n",
       "4  WW_confirm_purchase_OFF_control_A      ios         458        26785    712   \n",
       "5  WW_confirm_purchase_OFF_control_B      ios         459        25910    737   \n",
       "6     WW_confirm_purchase_OFF_test_A      ios         460        26384    789   \n",
       "7     WW_confirm_purchase_OFF_test_B      ios         461        26990    792   \n",
       "\n",
       "   Total Revenue  Purchase  Day1 Retention  Day3 Retention  Day7 Retention  \\\n",
       "0        6203.20      1433        0.357262        0.253567        0.181540   \n",
       "1        5953.29      1433        0.355648        0.256830        0.181808   \n",
       "2        5159.74      1512        0.352575        0.247781        0.170390   \n",
       "3       10724.15      1639        0.360458        0.252631        0.174685   \n",
       "4       10792.34      2366        0.367902        0.272985        0.211518   \n",
       "5       11671.16      2384        0.359198        0.270529        0.208895   \n",
       "6       13371.70      2630        0.356004        0.271130        0.206923   \n",
       "7       11877.18      2582        0.362288        0.276438        0.203038   \n",
       "\n",
       "   Day14 Retention  \n",
       "0         0.125000  \n",
       "1         0.098742  \n",
       "2         0.119962  \n",
       "3         0.145545  \n",
       "4         0.138028  \n",
       "5         0.133895  \n",
       "6         0.123989  \n",
       "7         0.111969  "
      ]
     },
     "execution_count": 2,
     "metadata": {},
     "output_type": "execute_result"
    }
   ],
   "source": [
    "test_data = read_excel('Statistical test.xlsx')\n",
    "test_data"
   ]
  },
  {
   "cell_type": "markdown",
   "metadata": {},
   "source": [
    "Given above A/B test result, we would like to know if:\n",
    "(you can combined test_a and test_b as test group, while control_a and control_b as control group)\n",
    "1. If there is a statistically significant improvement in revenue between test and control group, by platform\n",
    "2. if there is a statistically significant decrease in Day 14 Retention from test group vs. control group, by platform\n",
    "\n",
    "You can either use a package to conduct the test, or describe the formula you would use to conduct the test"
   ]
  },
  {
   "cell_type": "code",
   "execution_count": 3,
   "metadata": {},
   "outputs": [
    {
     "data": {
      "text/html": [
       "<div>\n",
       "<style scoped>\n",
       "    .dataframe tbody tr th:only-of-type {\n",
       "        vertical-align: middle;\n",
       "    }\n",
       "\n",
       "    .dataframe tbody tr th {\n",
       "        vertical-align: top;\n",
       "    }\n",
       "\n",
       "    .dataframe thead th {\n",
       "        text-align: right;\n",
       "    }\n",
       "</style>\n",
       "<table border=\"1\" class=\"dataframe\">\n",
       "  <thead>\n",
       "    <tr style=\"text-align: right;\">\n",
       "      <th></th>\n",
       "      <th>Group</th>\n",
       "      <th>Platform</th>\n",
       "      <th>Total Revenue</th>\n",
       "    </tr>\n",
       "  </thead>\n",
       "  <tbody>\n",
       "    <tr>\n",
       "      <th>0</th>\n",
       "      <td>WW_confirm_purchase_OFF_control</td>\n",
       "      <td>android</td>\n",
       "      <td>12156.49</td>\n",
       "    </tr>\n",
       "    <tr>\n",
       "      <th>1</th>\n",
       "      <td>WW_confirm_purchase_OFF_control</td>\n",
       "      <td>ios</td>\n",
       "      <td>22463.50</td>\n",
       "    </tr>\n",
       "    <tr>\n",
       "      <th>2</th>\n",
       "      <td>WW_confirm_purchase_OFF_test</td>\n",
       "      <td>android</td>\n",
       "      <td>15883.89</td>\n",
       "    </tr>\n",
       "    <tr>\n",
       "      <th>3</th>\n",
       "      <td>WW_confirm_purchase_OFF_test</td>\n",
       "      <td>ios</td>\n",
       "      <td>25248.88</td>\n",
       "    </tr>\n",
       "  </tbody>\n",
       "</table>\n",
       "</div>"
      ],
      "text/plain": [
       "                             Group Platform  Total Revenue\n",
       "0  WW_confirm_purchase_OFF_control  android       12156.49\n",
       "1  WW_confirm_purchase_OFF_control      ios       22463.50\n",
       "2     WW_confirm_purchase_OFF_test  android       15883.89\n",
       "3     WW_confirm_purchase_OFF_test      ios       25248.88"
      ]
     },
     "execution_count": 3,
     "metadata": {},
     "output_type": "execute_result"
    }
   ],
   "source": [
    "from scipy.stats import ttest_ind\n",
    "test = test_data\n",
    "test['Group'] = test['Experience Name'].apply(lambda x: x[:-2])\n",
    "test.groupby(['Group', 'Platform'])['Total Revenue'].sum().reset_index()"
   ]
  },
  {
   "cell_type": "markdown",
   "metadata": {},
   "source": [
    "### Total Revenue"
   ]
  },
  {
   "cell_type": "code",
   "execution_count": 4,
   "metadata": {},
   "outputs": [
    {
     "data": {
      "text/plain": [
       "Ttest_indResult(statistic=-0.6691897963200073, pvalue=0.5722795492043125)"
      ]
     },
     "execution_count": 4,
     "metadata": {},
     "output_type": "execute_result"
    }
   ],
   "source": [
    "test1 = test[test['Platform'] == 'android']\n",
    "a = test1[test1['Group'] == 'WW_confirm_purchase_OFF_control']['Total Revenue']\n",
    "b = test1[test1['Group'] == 'WW_confirm_purchase_OFF_test']['Total Revenue']\n",
    "ttest_ind(a, b, axis=0, equal_var=True, nan_policy='propagate')"
   ]
  },
  {
   "cell_type": "code",
   "execution_count": 5,
   "metadata": {},
   "outputs": [
    {
     "data": {
      "text/plain": [
       "Ttest_indResult(statistic=-1.6065569761873106, pvalue=0.2493892389639191)"
      ]
     },
     "execution_count": 5,
     "metadata": {},
     "output_type": "execute_result"
    }
   ],
   "source": [
    "test1 = test[test['Platform'] == 'ios']\n",
    "a = test1[test1['Group'] == 'WW_confirm_purchase_OFF_control']['Total Revenue']\n",
    "b = test1[test1['Group'] == 'WW_confirm_purchase_OFF_test']['Total Revenue']\n",
    "ttest_ind(a, b, axis=0, equal_var=True, nan_policy='propagate')"
   ]
  },
  {
   "cell_type": "code",
   "execution_count": 6,
   "metadata": {},
   "outputs": [
    {
     "data": {
      "text/html": [
       "<div>\n",
       "<style scoped>\n",
       "    .dataframe tbody tr th:only-of-type {\n",
       "        vertical-align: middle;\n",
       "    }\n",
       "\n",
       "    .dataframe tbody tr th {\n",
       "        vertical-align: top;\n",
       "    }\n",
       "\n",
       "    .dataframe thead th {\n",
       "        text-align: right;\n",
       "    }\n",
       "</style>\n",
       "<table border=\"1\" class=\"dataframe\">\n",
       "  <thead>\n",
       "    <tr style=\"text-align: right;\">\n",
       "      <th></th>\n",
       "      <th>Group</th>\n",
       "      <th>Platform</th>\n",
       "      <th>Day14 Retention</th>\n",
       "    </tr>\n",
       "  </thead>\n",
       "  <tbody>\n",
       "    <tr>\n",
       "      <th>0</th>\n",
       "      <td>WW_confirm_purchase_OFF_control</td>\n",
       "      <td>android</td>\n",
       "      <td>0.223742</td>\n",
       "    </tr>\n",
       "    <tr>\n",
       "      <th>1</th>\n",
       "      <td>WW_confirm_purchase_OFF_control</td>\n",
       "      <td>ios</td>\n",
       "      <td>0.271923</td>\n",
       "    </tr>\n",
       "    <tr>\n",
       "      <th>2</th>\n",
       "      <td>WW_confirm_purchase_OFF_test</td>\n",
       "      <td>android</td>\n",
       "      <td>0.265507</td>\n",
       "    </tr>\n",
       "    <tr>\n",
       "      <th>3</th>\n",
       "      <td>WW_confirm_purchase_OFF_test</td>\n",
       "      <td>ios</td>\n",
       "      <td>0.235958</td>\n",
       "    </tr>\n",
       "  </tbody>\n",
       "</table>\n",
       "</div>"
      ],
      "text/plain": [
       "                             Group Platform  Day14 Retention\n",
       "0  WW_confirm_purchase_OFF_control  android         0.223742\n",
       "1  WW_confirm_purchase_OFF_control      ios         0.271923\n",
       "2     WW_confirm_purchase_OFF_test  android         0.265507\n",
       "3     WW_confirm_purchase_OFF_test      ios         0.235958"
      ]
     },
     "execution_count": 6,
     "metadata": {},
     "output_type": "execute_result"
    }
   ],
   "source": [
    "test.groupby(['Group', 'Platform'])['Day14 Retention'].sum().reset_index()"
   ]
  },
  {
   "cell_type": "markdown",
   "metadata": {},
   "source": [
    "### Day14 Retention"
   ]
  },
  {
   "cell_type": "code",
   "execution_count": 7,
   "metadata": {},
   "outputs": [
    {
     "data": {
      "text/plain": [
       "Ttest_indResult(statistic=-1.1392454484198165, pvalue=0.37266449894295484)"
      ]
     },
     "execution_count": 7,
     "metadata": {},
     "output_type": "execute_result"
    }
   ],
   "source": [
    "test1 = test[test['Platform'] == 'android']\n",
    "a = test1[test1['Group'] == 'WW_confirm_purchase_OFF_control']['Day14 Retention']\n",
    "b = test1[test1['Group'] == 'WW_confirm_purchase_OFF_test']['Day14 Retention']\n",
    "ttest_ind(a, b, axis=0, equal_var=True, nan_policy='propagate')"
   ]
  },
  {
   "cell_type": "code",
   "execution_count": 8,
   "metadata": {},
   "outputs": [
    {
     "data": {
      "text/plain": [
       "Ttest_indResult(statistic=2.8295041461336172, pvalue=0.10550472330017353)"
      ]
     },
     "execution_count": 8,
     "metadata": {},
     "output_type": "execute_result"
    }
   ],
   "source": [
    "test1 = test[test['Platform'] == 'ios']\n",
    "a = test1[test1['Group'] == 'WW_confirm_purchase_OFF_control']['Day14 Retention']\n",
    "b = test1[test1['Group'] == 'WW_confirm_purchase_OFF_test']['Day14 Retention']\n",
    "ttest_ind(a, b, axis=0, equal_var=True, nan_policy='propagate')"
   ]
  },
  {
   "cell_type": "markdown",
   "metadata": {},
   "source": [
    "#### Please answer below"
   ]
  },
  {
   "cell_type": "markdown",
   "metadata": {},
   "source": [
    "### Question 3: Data Analysis and Machine Learning"
   ]
  },
  {
   "cell_type": "markdown",
   "metadata": {},
   "source": [
    "attached is a Game of War type game, given the data, please build a model to predict players' LTV\n",
    "1. What kind of exploratory analysis would you want to conduct?\n",
    "2. What procedure would you take to build the model?\n",
    "3. How would you validate the result?\n",
    "4. Please choose one model, and perform from step 1 to step 3 in order\n",
    "\n",
    "The accuracy is less important"
   ]
  },
  {
   "cell_type": "code",
   "execution_count": 9,
   "metadata": {},
   "outputs": [
    {
     "data": {
      "text/html": [
       "<div>\n",
       "<style scoped>\n",
       "    .dataframe tbody tr th:only-of-type {\n",
       "        vertical-align: middle;\n",
       "    }\n",
       "\n",
       "    .dataframe tbody tr th {\n",
       "        vertical-align: top;\n",
       "    }\n",
       "\n",
       "    .dataframe thead th {\n",
       "        text-align: right;\n",
       "    }\n",
       "</style>\n",
       "<table border=\"1\" class=\"dataframe\">\n",
       "  <thead>\n",
       "    <tr style=\"text-align: right;\">\n",
       "      <th></th>\n",
       "      <th>sessions</th>\n",
       "      <th>session_length</th>\n",
       "      <th>vip_level</th>\n",
       "      <th>core_level</th>\n",
       "      <th>alliance_power</th>\n",
       "      <th>alliance_territory</th>\n",
       "      <th>realm_chat_sent</th>\n",
       "      <th>alliance_chat_sent</th>\n",
       "      <th>message_sent</th>\n",
       "      <th>help_sent</th>\n",
       "      <th>first_session_length</th>\n",
       "      <th>day7_rev</th>\n",
       "      <th>day30_rev</th>\n",
       "      <th>ltv</th>\n",
       "    </tr>\n",
       "  </thead>\n",
       "  <tbody>\n",
       "    <tr>\n",
       "      <th>0</th>\n",
       "      <td>213.0</td>\n",
       "      <td>40234.0</td>\n",
       "      <td>4.0</td>\n",
       "      <td>8.0</td>\n",
       "      <td>1877045.0</td>\n",
       "      <td>0.0</td>\n",
       "      <td>NaN</td>\n",
       "      <td>NaN</td>\n",
       "      <td>NaN</td>\n",
       "      <td>NaN</td>\n",
       "      <td>49.5</td>\n",
       "      <td>NaN</td>\n",
       "      <td>NaN</td>\n",
       "      <td>120.0</td>\n",
       "    </tr>\n",
       "    <tr>\n",
       "      <th>1</th>\n",
       "      <td>26.0</td>\n",
       "      <td>10384.0</td>\n",
       "      <td>3.0</td>\n",
       "      <td>5.0</td>\n",
       "      <td>292869.0</td>\n",
       "      <td>0.0</td>\n",
       "      <td>NaN</td>\n",
       "      <td>NaN</td>\n",
       "      <td>NaN</td>\n",
       "      <td>NaN</td>\n",
       "      <td>577.5</td>\n",
       "      <td>NaN</td>\n",
       "      <td>NaN</td>\n",
       "      <td>15.0</td>\n",
       "    </tr>\n",
       "    <tr>\n",
       "      <th>2</th>\n",
       "      <td>1.0</td>\n",
       "      <td>176.0</td>\n",
       "      <td>1.0</td>\n",
       "      <td>0.0</td>\n",
       "      <td>0.0</td>\n",
       "      <td>0.0</td>\n",
       "      <td>NaN</td>\n",
       "      <td>NaN</td>\n",
       "      <td>NaN</td>\n",
       "      <td>NaN</td>\n",
       "      <td>88.0</td>\n",
       "      <td>NaN</td>\n",
       "      <td>NaN</td>\n",
       "      <td>NaN</td>\n",
       "    </tr>\n",
       "    <tr>\n",
       "      <th>3</th>\n",
       "      <td>2.0</td>\n",
       "      <td>181.0</td>\n",
       "      <td>1.0</td>\n",
       "      <td>2.0</td>\n",
       "      <td>0.0</td>\n",
       "      <td>0.0</td>\n",
       "      <td>NaN</td>\n",
       "      <td>NaN</td>\n",
       "      <td>NaN</td>\n",
       "      <td>NaN</td>\n",
       "      <td>80.0</td>\n",
       "      <td>NaN</td>\n",
       "      <td>NaN</td>\n",
       "      <td>NaN</td>\n",
       "    </tr>\n",
       "    <tr>\n",
       "      <th>4</th>\n",
       "      <td>1.0</td>\n",
       "      <td>135.0</td>\n",
       "      <td>1.0</td>\n",
       "      <td>0.0</td>\n",
       "      <td>0.0</td>\n",
       "      <td>0.0</td>\n",
       "      <td>NaN</td>\n",
       "      <td>NaN</td>\n",
       "      <td>NaN</td>\n",
       "      <td>NaN</td>\n",
       "      <td>67.5</td>\n",
       "      <td>NaN</td>\n",
       "      <td>NaN</td>\n",
       "      <td>NaN</td>\n",
       "    </tr>\n",
       "  </tbody>\n",
       "</table>\n",
       "</div>"
      ],
      "text/plain": [
       "   sessions  session_length  vip_level  core_level  alliance_power  \\\n",
       "0     213.0         40234.0        4.0         8.0       1877045.0   \n",
       "1      26.0         10384.0        3.0         5.0        292869.0   \n",
       "2       1.0           176.0        1.0         0.0             0.0   \n",
       "3       2.0           181.0        1.0         2.0             0.0   \n",
       "4       1.0           135.0        1.0         0.0             0.0   \n",
       "\n",
       "   alliance_territory  realm_chat_sent  alliance_chat_sent  message_sent  \\\n",
       "0                 0.0              NaN                 NaN           NaN   \n",
       "1                 0.0              NaN                 NaN           NaN   \n",
       "2                 0.0              NaN                 NaN           NaN   \n",
       "3                 0.0              NaN                 NaN           NaN   \n",
       "4                 0.0              NaN                 NaN           NaN   \n",
       "\n",
       "   help_sent  first_session_length  day7_rev  day30_rev    ltv  \n",
       "0        NaN                  49.5       NaN        NaN  120.0  \n",
       "1        NaN                 577.5       NaN        NaN   15.0  \n",
       "2        NaN                  88.0       NaN        NaN    NaN  \n",
       "3        NaN                  80.0       NaN        NaN    NaN  \n",
       "4        NaN                  67.5       NaN        NaN    NaN  "
      ]
     },
     "execution_count": 9,
     "metadata": {},
     "output_type": "execute_result"
    }
   ],
   "source": [
    "ltv_data = read_csv('ltv_data.csv')\n",
    "ltv_data.head()"
   ]
  },
  {
   "cell_type": "markdown",
   "metadata": {},
   "source": [
    "##### Answer below"
   ]
  },
  {
   "cell_type": "markdown",
   "metadata": {},
   "source": [
    "### basic glance"
   ]
  },
  {
   "cell_type": "code",
   "execution_count": 10,
   "metadata": {},
   "outputs": [
    {
     "data": {
      "text/plain": [
       "(1048575, 14)"
      ]
     },
     "execution_count": 10,
     "metadata": {},
     "output_type": "execute_result"
    }
   ],
   "source": [
    "ltv_data.shape"
   ]
  },
  {
   "cell_type": "code",
   "execution_count": 11,
   "metadata": {},
   "outputs": [
    {
     "data": {
      "text/html": [
       "<div>\n",
       "<style scoped>\n",
       "    .dataframe tbody tr th:only-of-type {\n",
       "        vertical-align: middle;\n",
       "    }\n",
       "\n",
       "    .dataframe tbody tr th {\n",
       "        vertical-align: top;\n",
       "    }\n",
       "\n",
       "    .dataframe thead th {\n",
       "        text-align: right;\n",
       "    }\n",
       "</style>\n",
       "<table border=\"1\" class=\"dataframe\">\n",
       "  <thead>\n",
       "    <tr style=\"text-align: right;\">\n",
       "      <th></th>\n",
       "      <th>sessions</th>\n",
       "      <th>session_length</th>\n",
       "      <th>vip_level</th>\n",
       "      <th>core_level</th>\n",
       "      <th>alliance_power</th>\n",
       "      <th>alliance_territory</th>\n",
       "      <th>realm_chat_sent</th>\n",
       "      <th>alliance_chat_sent</th>\n",
       "      <th>message_sent</th>\n",
       "      <th>help_sent</th>\n",
       "      <th>first_session_length</th>\n",
       "      <th>day7_rev</th>\n",
       "      <th>day30_rev</th>\n",
       "      <th>ltv</th>\n",
       "    </tr>\n",
       "  </thead>\n",
       "  <tbody>\n",
       "    <tr>\n",
       "      <th>count</th>\n",
       "      <td>194092.000000</td>\n",
       "      <td>194092.000000</td>\n",
       "      <td>194092.000000</td>\n",
       "      <td>194092.000000</td>\n",
       "      <td>1.940920e+05</td>\n",
       "      <td>194092.000000</td>\n",
       "      <td>185056.000000</td>\n",
       "      <td>185056.000000</td>\n",
       "      <td>185056.000000</td>\n",
       "      <td>185056.000000</td>\n",
       "      <td>1.048575e+06</td>\n",
       "      <td>2517.000000</td>\n",
       "      <td>2882.000000</td>\n",
       "      <td>3196.000000</td>\n",
       "    </tr>\n",
       "    <tr>\n",
       "      <th>mean</th>\n",
       "      <td>5.635482</td>\n",
       "      <td>5494.401794</td>\n",
       "      <td>1.299070</td>\n",
       "      <td>1.488438</td>\n",
       "      <td>1.896333e+06</td>\n",
       "      <td>125.341276</td>\n",
       "      <td>0.478914</td>\n",
       "      <td>2.072729</td>\n",
       "      <td>0.493559</td>\n",
       "      <td>18.432923</td>\n",
       "      <td>9.151752e+01</td>\n",
       "      <td>29.075089</td>\n",
       "      <td>49.454545</td>\n",
       "      <td>128.054443</td>\n",
       "    </tr>\n",
       "    <tr>\n",
       "      <th>std</th>\n",
       "      <td>17.374128</td>\n",
       "      <td>24499.362161</td>\n",
       "      <td>0.853919</td>\n",
       "      <td>2.284216</td>\n",
       "      <td>1.853906e+07</td>\n",
       "      <td>946.886849</td>\n",
       "      <td>8.831115</td>\n",
       "      <td>27.111509</td>\n",
       "      <td>8.907912</td>\n",
       "      <td>98.584136</td>\n",
       "      <td>8.588002e+02</td>\n",
       "      <td>69.339642</td>\n",
       "      <td>144.926618</td>\n",
       "      <td>532.415173</td>\n",
       "    </tr>\n",
       "    <tr>\n",
       "      <th>min</th>\n",
       "      <td>1.000000</td>\n",
       "      <td>0.000000</td>\n",
       "      <td>-7.000000</td>\n",
       "      <td>0.000000</td>\n",
       "      <td>0.000000e+00</td>\n",
       "      <td>0.000000</td>\n",
       "      <td>0.000000</td>\n",
       "      <td>0.000000</td>\n",
       "      <td>0.000000</td>\n",
       "      <td>0.000000</td>\n",
       "      <td>0.000000e+00</td>\n",
       "      <td>0.000000</td>\n",
       "      <td>0.000000</td>\n",
       "      <td>0.000000</td>\n",
       "    </tr>\n",
       "    <tr>\n",
       "      <th>25%</th>\n",
       "      <td>1.000000</td>\n",
       "      <td>127.000000</td>\n",
       "      <td>1.000000</td>\n",
       "      <td>0.000000</td>\n",
       "      <td>0.000000e+00</td>\n",
       "      <td>0.000000</td>\n",
       "      <td>0.000000</td>\n",
       "      <td>0.000000</td>\n",
       "      <td>0.000000</td>\n",
       "      <td>0.000000</td>\n",
       "      <td>0.000000e+00</td>\n",
       "      <td>5.000000</td>\n",
       "      <td>5.000000</td>\n",
       "      <td>5.000000</td>\n",
       "    </tr>\n",
       "    <tr>\n",
       "      <th>50%</th>\n",
       "      <td>1.000000</td>\n",
       "      <td>454.000000</td>\n",
       "      <td>1.000000</td>\n",
       "      <td>0.000000</td>\n",
       "      <td>0.000000e+00</td>\n",
       "      <td>0.000000</td>\n",
       "      <td>0.000000</td>\n",
       "      <td>0.000000</td>\n",
       "      <td>0.000000</td>\n",
       "      <td>0.000000</td>\n",
       "      <td>0.000000e+00</td>\n",
       "      <td>10.000000</td>\n",
       "      <td>10.000000</td>\n",
       "      <td>13.000000</td>\n",
       "    </tr>\n",
       "    <tr>\n",
       "      <th>75%</th>\n",
       "      <td>3.000000</td>\n",
       "      <td>1832.000000</td>\n",
       "      <td>1.000000</td>\n",
       "      <td>3.000000</td>\n",
       "      <td>0.000000e+00</td>\n",
       "      <td>0.000000</td>\n",
       "      <td>0.000000</td>\n",
       "      <td>0.000000</td>\n",
       "      <td>0.000000</td>\n",
       "      <td>0.000000</td>\n",
       "      <td>0.000000e+00</td>\n",
       "      <td>20.000000</td>\n",
       "      <td>35.000000</td>\n",
       "      <td>53.000000</td>\n",
       "    </tr>\n",
       "    <tr>\n",
       "      <th>max</th>\n",
       "      <td>519.000000</td>\n",
       "      <td>585638.000000</td>\n",
       "      <td>10.000000</td>\n",
       "      <td>21.000000</td>\n",
       "      <td>1.011674e+09</td>\n",
       "      <td>77216.000000</td>\n",
       "      <td>2005.000000</td>\n",
       "      <td>3883.000000</td>\n",
       "      <td>1810.000000</td>\n",
       "      <td>3492.000000</td>\n",
       "      <td>1.786410e+05</td>\n",
       "      <td>1120.000000</td>\n",
       "      <td>3465.000000</td>\n",
       "      <td>12460.000000</td>\n",
       "    </tr>\n",
       "  </tbody>\n",
       "</table>\n",
       "</div>"
      ],
      "text/plain": [
       "            sessions  session_length      vip_level     core_level  \\\n",
       "count  194092.000000   194092.000000  194092.000000  194092.000000   \n",
       "mean        5.635482     5494.401794       1.299070       1.488438   \n",
       "std        17.374128    24499.362161       0.853919       2.284216   \n",
       "min         1.000000        0.000000      -7.000000       0.000000   \n",
       "25%         1.000000      127.000000       1.000000       0.000000   \n",
       "50%         1.000000      454.000000       1.000000       0.000000   \n",
       "75%         3.000000     1832.000000       1.000000       3.000000   \n",
       "max       519.000000   585638.000000      10.000000      21.000000   \n",
       "\n",
       "       alliance_power  alliance_territory  realm_chat_sent  \\\n",
       "count    1.940920e+05       194092.000000    185056.000000   \n",
       "mean     1.896333e+06          125.341276         0.478914   \n",
       "std      1.853906e+07          946.886849         8.831115   \n",
       "min      0.000000e+00            0.000000         0.000000   \n",
       "25%      0.000000e+00            0.000000         0.000000   \n",
       "50%      0.000000e+00            0.000000         0.000000   \n",
       "75%      0.000000e+00            0.000000         0.000000   \n",
       "max      1.011674e+09        77216.000000      2005.000000   \n",
       "\n",
       "       alliance_chat_sent   message_sent      help_sent  first_session_length  \\\n",
       "count       185056.000000  185056.000000  185056.000000          1.048575e+06   \n",
       "mean             2.072729       0.493559      18.432923          9.151752e+01   \n",
       "std             27.111509       8.907912      98.584136          8.588002e+02   \n",
       "min              0.000000       0.000000       0.000000          0.000000e+00   \n",
       "25%              0.000000       0.000000       0.000000          0.000000e+00   \n",
       "50%              0.000000       0.000000       0.000000          0.000000e+00   \n",
       "75%              0.000000       0.000000       0.000000          0.000000e+00   \n",
       "max           3883.000000    1810.000000    3492.000000          1.786410e+05   \n",
       "\n",
       "          day7_rev    day30_rev           ltv  \n",
       "count  2517.000000  2882.000000   3196.000000  \n",
       "mean     29.075089    49.454545    128.054443  \n",
       "std      69.339642   144.926618    532.415173  \n",
       "min       0.000000     0.000000      0.000000  \n",
       "25%       5.000000     5.000000      5.000000  \n",
       "50%      10.000000    10.000000     13.000000  \n",
       "75%      20.000000    35.000000     53.000000  \n",
       "max    1120.000000  3465.000000  12460.000000  "
      ]
     },
     "execution_count": 11,
     "metadata": {},
     "output_type": "execute_result"
    }
   ],
   "source": [
    "ltv_data.describe()"
   ]
  },
  {
   "cell_type": "markdown",
   "metadata": {},
   "source": [
    "### check the missing values"
   ]
  },
  {
   "cell_type": "code",
   "execution_count": 12,
   "metadata": {},
   "outputs": [
    {
     "name": "stdout",
     "output_type": "stream",
     "text": [
      "number of features with null:  13\n"
     ]
    },
    {
     "data": {
      "text/html": [
       "<div>\n",
       "<style scoped>\n",
       "    .dataframe tbody tr th:only-of-type {\n",
       "        vertical-align: middle;\n",
       "    }\n",
       "\n",
       "    .dataframe tbody tr th {\n",
       "        vertical-align: top;\n",
       "    }\n",
       "\n",
       "    .dataframe thead th {\n",
       "        text-align: right;\n",
       "    }\n",
       "</style>\n",
       "<table border=\"1\" class=\"dataframe\">\n",
       "  <thead>\n",
       "    <tr style=\"text-align: right;\">\n",
       "      <th></th>\n",
       "      <th>Total</th>\n",
       "      <th>Percentage</th>\n",
       "    </tr>\n",
       "  </thead>\n",
       "  <tbody>\n",
       "    <tr>\n",
       "      <th>day7_rev</th>\n",
       "      <td>1046058</td>\n",
       "      <td>99.759960</td>\n",
       "    </tr>\n",
       "    <tr>\n",
       "      <th>day30_rev</th>\n",
       "      <td>1045693</td>\n",
       "      <td>99.725151</td>\n",
       "    </tr>\n",
       "    <tr>\n",
       "      <th>ltv</th>\n",
       "      <td>1045379</td>\n",
       "      <td>99.695205</td>\n",
       "    </tr>\n",
       "    <tr>\n",
       "      <th>realm_chat_sent</th>\n",
       "      <td>863519</td>\n",
       "      <td>82.351668</td>\n",
       "    </tr>\n",
       "    <tr>\n",
       "      <th>alliance_chat_sent</th>\n",
       "      <td>863519</td>\n",
       "      <td>82.351668</td>\n",
       "    </tr>\n",
       "    <tr>\n",
       "      <th>message_sent</th>\n",
       "      <td>863519</td>\n",
       "      <td>82.351668</td>\n",
       "    </tr>\n",
       "    <tr>\n",
       "      <th>help_sent</th>\n",
       "      <td>863519</td>\n",
       "      <td>82.351668</td>\n",
       "    </tr>\n",
       "    <tr>\n",
       "      <th>sessions</th>\n",
       "      <td>854483</td>\n",
       "      <td>81.489927</td>\n",
       "    </tr>\n",
       "    <tr>\n",
       "      <th>session_length</th>\n",
       "      <td>854483</td>\n",
       "      <td>81.489927</td>\n",
       "    </tr>\n",
       "    <tr>\n",
       "      <th>vip_level</th>\n",
       "      <td>854483</td>\n",
       "      <td>81.489927</td>\n",
       "    </tr>\n",
       "    <tr>\n",
       "      <th>core_level</th>\n",
       "      <td>854483</td>\n",
       "      <td>81.489927</td>\n",
       "    </tr>\n",
       "    <tr>\n",
       "      <th>alliance_power</th>\n",
       "      <td>854483</td>\n",
       "      <td>81.489927</td>\n",
       "    </tr>\n",
       "    <tr>\n",
       "      <th>alliance_territory</th>\n",
       "      <td>854483</td>\n",
       "      <td>81.489927</td>\n",
       "    </tr>\n",
       "    <tr>\n",
       "      <th>first_session_length</th>\n",
       "      <td>0</td>\n",
       "      <td>0.000000</td>\n",
       "    </tr>\n",
       "  </tbody>\n",
       "</table>\n",
       "</div>"
      ],
      "text/plain": [
       "                        Total  Percentage\n",
       "day7_rev              1046058   99.759960\n",
       "day30_rev             1045693   99.725151\n",
       "ltv                   1045379   99.695205\n",
       "realm_chat_sent        863519   82.351668\n",
       "alliance_chat_sent     863519   82.351668\n",
       "message_sent           863519   82.351668\n",
       "help_sent              863519   82.351668\n",
       "sessions               854483   81.489927\n",
       "session_length         854483   81.489927\n",
       "vip_level              854483   81.489927\n",
       "core_level             854483   81.489927\n",
       "alliance_power         854483   81.489927\n",
       "alliance_territory     854483   81.489927\n",
       "first_session_length        0    0.000000"
      ]
     },
     "execution_count": 12,
     "metadata": {},
     "output_type": "execute_result"
    }
   ],
   "source": [
    "total = ltv_data.isnull().sum()\n",
    "percentage = total / ltv_data.shape[0] * 100\n",
    "miss_app_train = pd.concat([total, percentage], axis = 1, keys = ['Total', 'Percentage']).sort_values(by = 'Total', axis = 0, ascending = False)\n",
    "print('number of features with null: ', sum(miss_app_train['Total'] != 0))\n",
    "miss_app_train"
   ]
  },
  {
   "cell_type": "markdown",
   "metadata": {},
   "source": [
    "there are too many missing values in target, let's filter it out first"
   ]
  },
  {
   "cell_type": "code",
   "execution_count": 13,
   "metadata": {},
   "outputs": [
    {
     "name": "stdout",
     "output_type": "stream",
     "text": [
      "shape of useful data (3196, 14)\n"
     ]
    }
   ],
   "source": [
    "useful_data = ltv_data[ltv_data['ltv'].notnull()]\n",
    "print('shape of useful data', useful_data.shape)"
   ]
  },
  {
   "cell_type": "code",
   "execution_count": 14,
   "metadata": {},
   "outputs": [
    {
     "name": "stdout",
     "output_type": "stream",
     "text": [
      "number of features with null:  6\n"
     ]
    },
    {
     "data": {
      "text/html": [
       "<div>\n",
       "<style scoped>\n",
       "    .dataframe tbody tr th:only-of-type {\n",
       "        vertical-align: middle;\n",
       "    }\n",
       "\n",
       "    .dataframe tbody tr th {\n",
       "        vertical-align: top;\n",
       "    }\n",
       "\n",
       "    .dataframe thead th {\n",
       "        text-align: right;\n",
       "    }\n",
       "</style>\n",
       "<table border=\"1\" class=\"dataframe\">\n",
       "  <thead>\n",
       "    <tr style=\"text-align: right;\">\n",
       "      <th></th>\n",
       "      <th>Total</th>\n",
       "      <th>Percentage</th>\n",
       "    </tr>\n",
       "  </thead>\n",
       "  <tbody>\n",
       "    <tr>\n",
       "      <th>day7_rev</th>\n",
       "      <td>679</td>\n",
       "      <td>21.245307</td>\n",
       "    </tr>\n",
       "    <tr>\n",
       "      <th>day30_rev</th>\n",
       "      <td>314</td>\n",
       "      <td>9.824781</td>\n",
       "    </tr>\n",
       "    <tr>\n",
       "      <th>realm_chat_sent</th>\n",
       "      <td>103</td>\n",
       "      <td>3.222778</td>\n",
       "    </tr>\n",
       "    <tr>\n",
       "      <th>alliance_chat_sent</th>\n",
       "      <td>103</td>\n",
       "      <td>3.222778</td>\n",
       "    </tr>\n",
       "    <tr>\n",
       "      <th>message_sent</th>\n",
       "      <td>103</td>\n",
       "      <td>3.222778</td>\n",
       "    </tr>\n",
       "    <tr>\n",
       "      <th>help_sent</th>\n",
       "      <td>103</td>\n",
       "      <td>3.222778</td>\n",
       "    </tr>\n",
       "    <tr>\n",
       "      <th>sessions</th>\n",
       "      <td>0</td>\n",
       "      <td>0.000000</td>\n",
       "    </tr>\n",
       "    <tr>\n",
       "      <th>session_length</th>\n",
       "      <td>0</td>\n",
       "      <td>0.000000</td>\n",
       "    </tr>\n",
       "    <tr>\n",
       "      <th>vip_level</th>\n",
       "      <td>0</td>\n",
       "      <td>0.000000</td>\n",
       "    </tr>\n",
       "    <tr>\n",
       "      <th>core_level</th>\n",
       "      <td>0</td>\n",
       "      <td>0.000000</td>\n",
       "    </tr>\n",
       "    <tr>\n",
       "      <th>alliance_power</th>\n",
       "      <td>0</td>\n",
       "      <td>0.000000</td>\n",
       "    </tr>\n",
       "    <tr>\n",
       "      <th>alliance_territory</th>\n",
       "      <td>0</td>\n",
       "      <td>0.000000</td>\n",
       "    </tr>\n",
       "    <tr>\n",
       "      <th>first_session_length</th>\n",
       "      <td>0</td>\n",
       "      <td>0.000000</td>\n",
       "    </tr>\n",
       "    <tr>\n",
       "      <th>ltv</th>\n",
       "      <td>0</td>\n",
       "      <td>0.000000</td>\n",
       "    </tr>\n",
       "  </tbody>\n",
       "</table>\n",
       "</div>"
      ],
      "text/plain": [
       "                      Total  Percentage\n",
       "day7_rev                679   21.245307\n",
       "day30_rev               314    9.824781\n",
       "realm_chat_sent         103    3.222778\n",
       "alliance_chat_sent      103    3.222778\n",
       "message_sent            103    3.222778\n",
       "help_sent               103    3.222778\n",
       "sessions                  0    0.000000\n",
       "session_length            0    0.000000\n",
       "vip_level                 0    0.000000\n",
       "core_level                0    0.000000\n",
       "alliance_power            0    0.000000\n",
       "alliance_territory        0    0.000000\n",
       "first_session_length      0    0.000000\n",
       "ltv                       0    0.000000"
      ]
     },
     "execution_count": 14,
     "metadata": {},
     "output_type": "execute_result"
    }
   ],
   "source": [
    "total = useful_data.isnull().sum()\n",
    "percentage = total / useful_data.shape[0] * 100\n",
    "miss_app_train = pd.concat([total, percentage], axis = 1, keys = ['Total', 'Percentage']).sort_values(by = 'Total', axis = 0, ascending = False)\n",
    "print('number of features with null: ', sum(miss_app_train['Total'] != 0))\n",
    "miss_app_train"
   ]
  },
  {
   "cell_type": "markdown",
   "metadata": {},
   "source": [
    "all missing values are less than 25%, good"
   ]
  },
  {
   "cell_type": "code",
   "execution_count": 15,
   "metadata": {},
   "outputs": [
    {
     "data": {
      "text/html": [
       "<div>\n",
       "<style scoped>\n",
       "    .dataframe tbody tr th:only-of-type {\n",
       "        vertical-align: middle;\n",
       "    }\n",
       "\n",
       "    .dataframe tbody tr th {\n",
       "        vertical-align: top;\n",
       "    }\n",
       "\n",
       "    .dataframe thead th {\n",
       "        text-align: right;\n",
       "    }\n",
       "</style>\n",
       "<table border=\"1\" class=\"dataframe\">\n",
       "  <thead>\n",
       "    <tr style=\"text-align: right;\">\n",
       "      <th></th>\n",
       "      <th>sessions</th>\n",
       "      <th>session_length</th>\n",
       "      <th>vip_level</th>\n",
       "      <th>core_level</th>\n",
       "      <th>alliance_power</th>\n",
       "      <th>alliance_territory</th>\n",
       "      <th>realm_chat_sent</th>\n",
       "      <th>alliance_chat_sent</th>\n",
       "      <th>message_sent</th>\n",
       "      <th>help_sent</th>\n",
       "      <th>first_session_length</th>\n",
       "      <th>day7_rev</th>\n",
       "      <th>day30_rev</th>\n",
       "      <th>ltv</th>\n",
       "    </tr>\n",
       "  </thead>\n",
       "  <tbody>\n",
       "    <tr>\n",
       "      <th>count</th>\n",
       "      <td>3196.000000</td>\n",
       "      <td>3196.000000</td>\n",
       "      <td>3196.000000</td>\n",
       "      <td>3196.000000</td>\n",
       "      <td>3.196000e+03</td>\n",
       "      <td>3196.000000</td>\n",
       "      <td>3093.000000</td>\n",
       "      <td>3093.000000</td>\n",
       "      <td>3093.000000</td>\n",
       "      <td>3093.000000</td>\n",
       "      <td>3196.000000</td>\n",
       "      <td>2517.000000</td>\n",
       "      <td>2882.000000</td>\n",
       "      <td>3196.000000</td>\n",
       "    </tr>\n",
       "    <tr>\n",
       "      <th>mean</th>\n",
       "      <td>59.008761</td>\n",
       "      <td>41772.650814</td>\n",
       "      <td>3.956508</td>\n",
       "      <td>7.201189</td>\n",
       "      <td>1.801662e+07</td>\n",
       "      <td>939.532541</td>\n",
       "      <td>6.536049</td>\n",
       "      <td>35.445845</td>\n",
       "      <td>7.010023</td>\n",
       "      <td>259.606531</td>\n",
       "      <td>1000.713861</td>\n",
       "      <td>29.075089</td>\n",
       "      <td>49.454545</td>\n",
       "      <td>128.054443</td>\n",
       "    </tr>\n",
       "    <tr>\n",
       "      <th>std</th>\n",
       "      <td>59.484477</td>\n",
       "      <td>48698.102752</td>\n",
       "      <td>1.611865</td>\n",
       "      <td>2.550623</td>\n",
       "      <td>5.795012e+07</td>\n",
       "      <td>2771.336611</td>\n",
       "      <td>49.428484</td>\n",
       "      <td>116.054533</td>\n",
       "      <td>27.076653</td>\n",
       "      <td>365.407026</td>\n",
       "      <td>1268.375271</td>\n",
       "      <td>69.339642</td>\n",
       "      <td>144.926618</td>\n",
       "      <td>532.415173</td>\n",
       "    </tr>\n",
       "    <tr>\n",
       "      <th>min</th>\n",
       "      <td>1.000000</td>\n",
       "      <td>4.000000</td>\n",
       "      <td>-7.000000</td>\n",
       "      <td>0.000000</td>\n",
       "      <td>0.000000e+00</td>\n",
       "      <td>0.000000</td>\n",
       "      <td>0.000000</td>\n",
       "      <td>0.000000</td>\n",
       "      <td>0.000000</td>\n",
       "      <td>0.000000</td>\n",
       "      <td>0.000000</td>\n",
       "      <td>0.000000</td>\n",
       "      <td>0.000000</td>\n",
       "      <td>0.000000</td>\n",
       "    </tr>\n",
       "    <tr>\n",
       "      <th>25%</th>\n",
       "      <td>14.000000</td>\n",
       "      <td>9818.500000</td>\n",
       "      <td>3.000000</td>\n",
       "      <td>6.000000</td>\n",
       "      <td>8.194765e+05</td>\n",
       "      <td>155.000000</td>\n",
       "      <td>0.000000</td>\n",
       "      <td>0.000000</td>\n",
       "      <td>0.000000</td>\n",
       "      <td>19.000000</td>\n",
       "      <td>264.000000</td>\n",
       "      <td>5.000000</td>\n",
       "      <td>5.000000</td>\n",
       "      <td>5.000000</td>\n",
       "    </tr>\n",
       "    <tr>\n",
       "      <th>50%</th>\n",
       "      <td>40.000000</td>\n",
       "      <td>24176.000000</td>\n",
       "      <td>4.000000</td>\n",
       "      <td>7.000000</td>\n",
       "      <td>2.545457e+06</td>\n",
       "      <td>357.500000</td>\n",
       "      <td>0.000000</td>\n",
       "      <td>2.000000</td>\n",
       "      <td>0.000000</td>\n",
       "      <td>117.000000</td>\n",
       "      <td>646.000000</td>\n",
       "      <td>10.000000</td>\n",
       "      <td>10.000000</td>\n",
       "      <td>13.000000</td>\n",
       "    </tr>\n",
       "    <tr>\n",
       "      <th>75%</th>\n",
       "      <td>86.000000</td>\n",
       "      <td>55319.250000</td>\n",
       "      <td>5.000000</td>\n",
       "      <td>8.000000</td>\n",
       "      <td>9.407100e+06</td>\n",
       "      <td>558.000000</td>\n",
       "      <td>1.000000</td>\n",
       "      <td>21.000000</td>\n",
       "      <td>3.000000</td>\n",
       "      <td>342.000000</td>\n",
       "      <td>1279.625000</td>\n",
       "      <td>20.000000</td>\n",
       "      <td>35.000000</td>\n",
       "      <td>53.000000</td>\n",
       "    </tr>\n",
       "    <tr>\n",
       "      <th>max</th>\n",
       "      <td>519.000000</td>\n",
       "      <td>390496.000000</td>\n",
       "      <td>10.000000</td>\n",
       "      <td>21.000000</td>\n",
       "      <td>9.592443e+08</td>\n",
       "      <td>77216.000000</td>\n",
       "      <td>2005.000000</td>\n",
       "      <td>3262.000000</td>\n",
       "      <td>512.000000</td>\n",
       "      <td>3492.000000</td>\n",
       "      <td>24733.500000</td>\n",
       "      <td>1120.000000</td>\n",
       "      <td>3465.000000</td>\n",
       "      <td>12460.000000</td>\n",
       "    </tr>\n",
       "  </tbody>\n",
       "</table>\n",
       "</div>"
      ],
      "text/plain": [
       "          sessions  session_length    vip_level   core_level  alliance_power  \\\n",
       "count  3196.000000     3196.000000  3196.000000  3196.000000    3.196000e+03   \n",
       "mean     59.008761    41772.650814     3.956508     7.201189    1.801662e+07   \n",
       "std      59.484477    48698.102752     1.611865     2.550623    5.795012e+07   \n",
       "min       1.000000        4.000000    -7.000000     0.000000    0.000000e+00   \n",
       "25%      14.000000     9818.500000     3.000000     6.000000    8.194765e+05   \n",
       "50%      40.000000    24176.000000     4.000000     7.000000    2.545457e+06   \n",
       "75%      86.000000    55319.250000     5.000000     8.000000    9.407100e+06   \n",
       "max     519.000000   390496.000000    10.000000    21.000000    9.592443e+08   \n",
       "\n",
       "       alliance_territory  realm_chat_sent  alliance_chat_sent  message_sent  \\\n",
       "count         3196.000000      3093.000000         3093.000000   3093.000000   \n",
       "mean           939.532541         6.536049           35.445845      7.010023   \n",
       "std           2771.336611        49.428484          116.054533     27.076653   \n",
       "min              0.000000         0.000000            0.000000      0.000000   \n",
       "25%            155.000000         0.000000            0.000000      0.000000   \n",
       "50%            357.500000         0.000000            2.000000      0.000000   \n",
       "75%            558.000000         1.000000           21.000000      3.000000   \n",
       "max          77216.000000      2005.000000         3262.000000    512.000000   \n",
       "\n",
       "         help_sent  first_session_length     day7_rev    day30_rev  \\\n",
       "count  3093.000000           3196.000000  2517.000000  2882.000000   \n",
       "mean    259.606531           1000.713861    29.075089    49.454545   \n",
       "std     365.407026           1268.375271    69.339642   144.926618   \n",
       "min       0.000000              0.000000     0.000000     0.000000   \n",
       "25%      19.000000            264.000000     5.000000     5.000000   \n",
       "50%     117.000000            646.000000    10.000000    10.000000   \n",
       "75%     342.000000           1279.625000    20.000000    35.000000   \n",
       "max    3492.000000          24733.500000  1120.000000  3465.000000   \n",
       "\n",
       "                ltv  \n",
       "count   3196.000000  \n",
       "mean     128.054443  \n",
       "std      532.415173  \n",
       "min        0.000000  \n",
       "25%        5.000000  \n",
       "50%       13.000000  \n",
       "75%       53.000000  \n",
       "max    12460.000000  "
      ]
     },
     "execution_count": 15,
     "metadata": {},
     "output_type": "execute_result"
    }
   ],
   "source": [
    "useful_data.describe()"
   ]
  },
  {
   "cell_type": "code",
   "execution_count": 16,
   "metadata": {},
   "outputs": [
    {
     "data": {
      "text/plain": [
       "322"
      ]
     },
     "execution_count": 16,
     "metadata": {},
     "output_type": "execute_result"
    }
   ],
   "source": [
    "len(useful_data['ltv'].unique())"
   ]
  },
  {
   "cell_type": "markdown",
   "metadata": {},
   "source": [
    "### let's have a look at the distribution of target"
   ]
  },
  {
   "cell_type": "code",
   "execution_count": 17,
   "metadata": {},
   "outputs": [
    {
     "data": {
      "image/png": "[encoded data removed]",
      "text/plain": [
       "<matplotlib.figure.Figure at 0x7f210d75f6a0>"
      ]
     },
     "metadata": {},
     "output_type": "display_data"
    }
   ],
   "source": [
    "import matplotlib.pyplot as plt\n",
    "import seaborn as sns\n",
    "\n",
    "plt.figure(figsize=(12,5))\n",
    "plt.title(\"Distribution of AMT_CREDIT\")\n",
    "ax = sns.distplot(useful_data[\"ltv\"], hist = True)"
   ]
  },
  {
   "cell_type": "markdown",
   "metadata": {},
   "source": [
    "looks like a log-normal ditribution, let's do some operation"
   ]
  },
  {
   "cell_type": "code",
   "execution_count": 18,
   "metadata": {},
   "outputs": [
    {
     "data": {
      "image/png": "[encoded data removed]",
      "text/plain": [
       "<matplotlib.figure.Figure at 0x7f2102ab6390>"
      ]
     },
     "metadata": {},
     "output_type": "display_data"
    }
   ],
   "source": [
    "plt.figure(figsize=(12,5))\n",
    "plt.title(\"Distribution of AMT_CREDIT\")\n",
    "ax = sns.distplot(np.log1p(useful_data[\"ltv\"]), hist = True)"
   ]
  },
  {
   "cell_type": "markdown",
   "metadata": {},
   "source": [
    "looks better, let's treat log(lvt+1) as a target in our model"
   ]
  },
  {
   "cell_type": "markdown",
   "metadata": {},
   "source": [
    "### check the corr"
   ]
  },
  {
   "cell_type": "code",
   "execution_count": 19,
   "metadata": {},
   "outputs": [
    {
     "name": "stderr",
     "output_type": "stream",
     "text": [
      "/home/jacob/anaconda3/lib/python3.6/site-packages/ipykernel_launcher.py:1: SettingWithCopyWarning: \n",
      "A value is trying to be set on a copy of a slice from a DataFrame.\n",
      "Try using .loc[row_indexer,col_indexer] = value instead\n",
      "\n",
      "See the caveats in the documentation: http://pandas.pydata.org/pandas-docs/stable/indexing.html#indexing-view-versus-copy\n",
      "  \"\"\"Entry point for launching an IPython kernel.\n"
     ]
    },
    {
     "data": {
      "text/html": [
       "<script>requirejs.config({paths: { 'plotly': ['https://cdn.plot.ly/plotly-latest.min']},});if(!window.Plotly) {{require(['plotly'],function(plotly) {window.Plotly=plotly;});}}</script>"
      ],
      "text/vnd.plotly.v1+html": [
       "<script>requirejs.config({paths: { 'plotly': ['https://cdn.plot.ly/plotly-latest.min']},});if(!window.Plotly) {{require(['plotly'],function(plotly) {window.Plotly=plotly;});}}</script>"
      ]
     },
     "metadata": {},
     "output_type": "display_data"
    },
    {
     "data": {
      "application/vnd.plotly.v1+json": {
       "data": [
        {
         "opacity": 1,
         "reversescale": false,
         "type": "heatmap",
         "uid": "d8fe2440-a1ba-11e8-9dcd-309c238a18ed",
         "x": [
          "sessions",
          "session_length",
          "vip_level",
          "core_level",
          "alliance_power",
          "alliance_territory",
          "realm_chat_sent",
          "alliance_chat_sent",
          "message_sent",
          "help_sent",
          "first_session_length",
          "day7_rev",
          "day30_rev",
          "ltv",
          "log_ltv"
         ],
         "y": [
          "sessions",
          "session_length",
          "vip_level",
          "core_level",
          "alliance_power",
          "alliance_territory",
          "realm_chat_sent",
          "alliance_chat_sent",
          "message_sent",
          "help_sent",
          "first_session_length",
          "day7_rev",
          "day30_rev",
          "ltv",
          "log_ltv"
         ],
         "z": [
          [
           1,
           0.582352071937584,
           0.4187517033561457,
           0.5212989564856648,
           0.09902774355029419,
           0.0805527753964023,
           0.13392826019645257,
           0.30721169275349686,
           0.2355775799568024,
           0.6532763296367774,
           0.010219703842374118,
           0.1749786868318095,
           0.19112010681523608,
           0.1301373586607667,
           0.28803712530126013
          ],
          [
           0.582352071937584,
           1,
           0.40806205353127356,
           0.5730944708129703,
           0.16339579018236045,
           0.12479816877380784,
           0.22094633170845274,
           0.4796825289632736,
           0.401709497369113,
           0.7228243735637963,
           0.3027355241700266,
           0.3290168131718604,
           0.31884362635591074,
           0.2350582101137211,
           0.38421417328339313
          ],
          [
           0.4187517033561457,
           0.40806205353127356,
           1,
           0.6931586065918763,
           0.11415662897696435,
           0.0869793227463541,
           0.09943684466004836,
           0.22522730644976144,
           0.21036637758923218,
           0.4147386094053589,
           0.1590380029256641,
           0.4064335769095941,
           0.32607058335498174,
           0.15394370890528747,
           0.394281859386121
          ],
          [
           0.5212989564856648,
           0.5730944708129703,
           0.6931586065918763,
           1,
           0.17395822520236878,
           0.12995503086752608,
           0.15222946305670448,
           0.3165291671021229,
           0.31207285235618004,
           0.5178280047340521,
           0.1921167779890658,
           0.6026143574062328,
           0.5131489277139745,
           0.26329712784236253,
           0.47256124453943693
          ],
          [
           0.09902774355029419,
           0.16339579018236045,
           0.11415662897696435,
           0.17395822520236878,
           1,
           0.8252207946283775,
           0.022384733538977523,
           0.04882940322329009,
           0.11747411698120741,
           0.03588473328790437,
           0.08632101714063109,
           0.06750250818271568,
           0.0470557536412936,
           0.0018149383243269385,
           0.03889992018536774
          ],
          [
           0.0805527753964023,
           0.12479816877380784,
           0.0869793227463541,
           0.12995503086752608,
           0.8252207946283775,
           1,
           0.010849725545119752,
           0.02022579167261997,
           0.07930292013927757,
           0.012423925415286002,
           0.07183830274320577,
           0.0061295143416291884,
           0.003718300079553091,
           -0.009172663570015683,
           0.011308210379666922
          ],
          [
           0.13392826019645257,
           0.22094633170845274,
           0.09943684466004836,
           0.15222946305670448,
           0.022384733538977523,
           0.010849725545119752,
           1,
           0.7063317768736684,
           0.6172881396846917,
           0.25687760240911334,
           0.027036768134291254,
           0.22026786607415483,
           0.09917294937997524,
           0.048366576789043825,
           0.07650967831386982
          ],
          [
           0.30721169275349686,
           0.4796825289632736,
           0.22522730644976144,
           0.3165291671021229,
           0.04882940322329009,
           0.02022579167261997,
           0.7063317768736684,
           1,
           0.6982398780448507,
           0.5462302944714076,
           0.10326153920636048,
           0.3141526026750583,
           0.22435493916405186,
           0.12859860894669117,
           0.20608855053590935
          ],
          [
           0.2355775799568024,
           0.401709497369113,
           0.21036637758923218,
           0.31207285235618004,
           0.11747411698120741,
           0.07930292013927757,
           0.6172881396846917,
           0.6982398780448507,
           1,
           0.39153433002104,
           0.07346712342854102,
           0.30298490353223473,
           0.2424544932403164,
           0.1243170246927538,
           0.18396258714841254
          ],
          [
           0.6532763296367774,
           0.7228243735637963,
           0.4147386094053589,
           0.5178280047340521,
           0.03588473328790437,
           0.012423925415286002,
           0.25687760240911334,
           0.5462302944714076,
           0.39153433002104,
           1,
           0.15355166830422612,
           0.2655507681180323,
           0.24183299873076508,
           0.13838500147030605,
           0.3239964553476867
          ],
          [
           0.010219703842374118,
           0.3027355241700266,
           0.1590380029256641,
           0.1921167779890658,
           0.08632101714063109,
           0.07183830274320577,
           0.027036768134291254,
           0.10326153920636048,
           0.07346712342854102,
           0.15355166830422612,
           1,
           0.1371866929237675,
           0.09182629548497478,
           0.08710208090753889,
           0.12309640274482367
          ],
          [
           0.1749786868318095,
           0.3290168131718604,
           0.4064335769095941,
           0.6026143574062328,
           0.06750250818271568,
           0.0061295143416291884,
           0.22026786607415483,
           0.3141526026750583,
           0.30298490353223473,
           0.2655507681180323,
           0.1371866929237675,
           1,
           0.8488310152065276,
           0.4640620302013324,
           0.564063273467449
          ],
          [
           0.19112010681523608,
           0.31884362635591074,
           0.32607058335498174,
           0.5131489277139745,
           0.0470557536412936,
           0.003718300079553091,
           0.09917294937997524,
           0.22435493916405186,
           0.2424544932403164,
           0.24183299873076508,
           0.09182629548497478,
           0.8488310152065276,
           1,
           0.5841135438458762,
           0.5704383102854137
          ],
          [
           0.1301373586607667,
           0.2350582101137211,
           0.15394370890528747,
           0.26329712784236253,
           0.0018149383243269385,
           -0.009172663570015683,
           0.048366576789043825,
           0.12859860894669117,
           0.1243170246927538,
           0.13838500147030605,
           0.08710208090753889,
           0.4640620302013324,
           0.5841135438458762,
           1,
           0.5534640359273999
          ],
          [
           0.28803712530126013,
           0.38421417328339313,
           0.394281859386121,
           0.47256124453943693,
           0.03889992018536774,
           0.011308210379666922,
           0.07650967831386982,
           0.20608855053590935,
           0.18396258714841254,
           0.3239964553476867,
           0.12309640274482367,
           0.564063273467449,
           0.5704383102854137,
           0.5534640359273999,
           1
          ]
         ]
        }
       ],
       "layout": {
        "height": 700,
        "margin": {
         "l": 240
        },
        "title": "Pearson Correlation of features",
        "width": 900,
        "xaxis": {
         "nticks": 36,
         "ticks": ""
        },
        "yaxis": {
         "ticks": ""
        }
       }
      },
      "text/html": [
       "<div id=\"4fc033cf-68a3-475e-b545-2e566f0a1055\" style=\"height: 700px; width: 900px;\" class=\"plotly-graph-div\"></div><script type=\"text/javascript\">require([\"plotly\"], function(Plotly) { window.PLOTLYENV=window.PLOTLYENV || {};window.PLOTLYENV.BASE_URL=\"https://plot.ly\";\n",
       "        Plotly.plot(\n",
       "            '4fc033cf-68a3-475e-b545-2e566f0a1055',\n",
       "            [{\"opacity\": 1.0, \"reversescale\": false, \"x\": [\"sessions\", \"session_length\", \"vip_level\", \"core_level\", \"alliance_power\", \"alliance_territory\", \"realm_chat_sent\", \"alliance_chat_sent\", \"message_sent\", \"help_sent\", \"first_session_length\", \"day7_rev\", \"day30_rev\", \"ltv\", \"log_ltv\"], \"y\": [\"sessions\", \"session_length\", \"vip_level\", \"core_level\", \"alliance_power\", \"alliance_territory\", \"realm_chat_sent\", \"alliance_chat_sent\", \"message_sent\", \"help_sent\", \"first_session_length\", \"day7_rev\", \"day30_rev\", \"ltv\", \"log_ltv\"], \"z\": [[1.0, 0.582352071937584, 0.4187517033561457, 0.5212989564856648, 0.09902774355029419, 0.0805527753964023, 0.13392826019645257, 0.30721169275349686, 0.2355775799568024, 0.6532763296367774, 0.010219703842374118, 0.1749786868318095, 0.19112010681523608, 0.1301373586607667, 0.28803712530126013], [0.582352071937584, 1.0, 0.40806205353127356, 0.5730944708129703, 0.16339579018236045, 0.12479816877380784, 0.22094633170845274, 0.4796825289632736, 0.401709497369113, 0.7228243735637963, 0.3027355241700266, 0.3290168131718604, 0.31884362635591074, 0.2350582101137211, 0.38421417328339313], [0.4187517033561457, 0.40806205353127356, 1.0, 0.6931586065918763, 0.11415662897696435, 0.0869793227463541, 0.09943684466004836, 0.22522730644976144, 0.21036637758923218, 0.4147386094053589, 0.1590380029256641, 0.4064335769095941, 0.32607058335498174, 0.15394370890528747, 0.394281859386121], [0.5212989564856648, 0.5730944708129703, 0.6931586065918763, 1.0, 0.17395822520236878, 0.12995503086752608, 0.15222946305670448, 0.3165291671021229, 0.31207285235618004, 0.5178280047340521, 0.1921167779890658, 0.6026143574062328, 0.5131489277139745, 0.26329712784236253, 0.47256124453943693], [0.09902774355029419, 0.16339579018236045, 0.11415662897696435, 0.17395822520236878, 1.0, 0.8252207946283775, 0.022384733538977523, 0.04882940322329009, 0.11747411698120741, 0.03588473328790437, 0.08632101714063109, 0.06750250818271568, 0.0470557536412936, 0.0018149383243269385, 0.03889992018536774], [0.0805527753964023, 0.12479816877380784, 0.0869793227463541, 0.12995503086752608, 0.8252207946283775, 1.0, 0.010849725545119752, 0.02022579167261997, 0.07930292013927757, 0.012423925415286002, 0.07183830274320577, 0.0061295143416291884, 0.003718300079553091, -0.009172663570015683, 0.011308210379666922], [0.13392826019645257, 0.22094633170845274, 0.09943684466004836, 0.15222946305670448, 0.022384733538977523, 0.010849725545119752, 1.0, 0.7063317768736684, 0.6172881396846917, 0.25687760240911334, 0.027036768134291254, 0.22026786607415483, 0.09917294937997524, 0.048366576789043825, 0.07650967831386982], [0.30721169275349686, 0.4796825289632736, 0.22522730644976144, 0.3165291671021229, 0.04882940322329009, 0.02022579167261997, 0.7063317768736684, 1.0, 0.6982398780448507, 0.5462302944714076, 0.10326153920636048, 0.3141526026750583, 0.22435493916405186, 0.12859860894669117, 0.20608855053590935], [0.2355775799568024, 0.401709497369113, 0.21036637758923218, 0.31207285235618004, 0.11747411698120741, 0.07930292013927757, 0.6172881396846917, 0.6982398780448507, 1.0, 0.39153433002104, 0.07346712342854102, 0.30298490353223473, 0.2424544932403164, 0.1243170246927538, 0.18396258714841254], [0.6532763296367774, 0.7228243735637963, 0.4147386094053589, 0.5178280047340521, 0.03588473328790437, 0.012423925415286002, 0.25687760240911334, 0.5462302944714076, 0.39153433002104, 1.0, 0.15355166830422612, 0.2655507681180323, 0.24183299873076508, 0.13838500147030605, 0.3239964553476867], [0.010219703842374118, 0.3027355241700266, 0.1590380029256641, 0.1921167779890658, 0.08632101714063109, 0.07183830274320577, 0.027036768134291254, 0.10326153920636048, 0.07346712342854102, 0.15355166830422612, 1.0, 0.1371866929237675, 0.09182629548497478, 0.08710208090753889, 0.12309640274482367], [0.1749786868318095, 0.3290168131718604, 0.4064335769095941, 0.6026143574062328, 0.06750250818271568, 0.0061295143416291884, 0.22026786607415483, 0.3141526026750583, 0.30298490353223473, 0.2655507681180323, 0.1371866929237675, 1.0, 0.8488310152065276, 0.4640620302013324, 0.564063273467449], [0.19112010681523608, 0.31884362635591074, 0.32607058335498174, 0.5131489277139745, 0.0470557536412936, 0.003718300079553091, 0.09917294937997524, 0.22435493916405186, 0.2424544932403164, 0.24183299873076508, 0.09182629548497478, 0.8488310152065276, 1.0, 0.5841135438458762, 0.5704383102854137], [0.1301373586607667, 0.2350582101137211, 0.15394370890528747, 0.26329712784236253, 0.0018149383243269385, -0.009172663570015683, 0.048366576789043825, 0.12859860894669117, 0.1243170246927538, 0.13838500147030605, 0.08710208090753889, 0.4640620302013324, 0.5841135438458762, 1.0, 0.5534640359273999], [0.28803712530126013, 0.38421417328339313, 0.394281859386121, 0.47256124453943693, 0.03889992018536774, 0.011308210379666922, 0.07650967831386982, 0.20608855053590935, 0.18396258714841254, 0.3239964553476867, 0.12309640274482367, 0.564063273467449, 0.5704383102854137, 0.5534640359273999, 1.0]], \"type\": \"heatmap\", \"uid\": \"d8fe2440-a1ba-11e8-9dcd-309c238a18ed\"}],\n",
       "            {\"height\": 700, \"margin\": {\"l\": 240}, \"title\": \"Pearson Correlation of features\", \"width\": 900, \"xaxis\": {\"nticks\": 36, \"ticks\": \"\"}, \"yaxis\": {\"ticks\": \"\"}},\n",
       "            {\"showLink\": true, \"linkText\": \"Export to plot.ly\"}\n",
       "        ).then(function () {return Plotly.addFrames('4fc033cf-68a3-475e-b545-2e566f0a1055',{});}).then(function(){Plotly.animate('4fc033cf-68a3-475e-b545-2e566f0a1055');})\n",
       "        });</script>"
      ],
      "text/vnd.plotly.v1+html": [
       "<div id=\"4fc033cf-68a3-475e-b545-2e566f0a1055\" style=\"height: 700px; width: 900px;\" class=\"plotly-graph-div\"></div><script type=\"text/javascript\">require([\"plotly\"], function(Plotly) { window.PLOTLYENV=window.PLOTLYENV || {};window.PLOTLYENV.BASE_URL=\"https://plot.ly\";\n",
       "        Plotly.plot(\n",
       "            '4fc033cf-68a3-475e-b545-2e566f0a1055',\n",
       "            [{\"opacity\": 1.0, \"reversescale\": false, \"x\": [\"sessions\", \"session_length\", \"vip_level\", \"core_level\", \"alliance_power\", \"alliance_territory\", \"realm_chat_sent\", \"alliance_chat_sent\", \"message_sent\", \"help_sent\", \"first_session_length\", \"day7_rev\", \"day30_rev\", \"ltv\", \"log_ltv\"], \"y\": [\"sessions\", \"session_length\", \"vip_level\", \"core_level\", \"alliance_power\", \"alliance_territory\", \"realm_chat_sent\", \"alliance_chat_sent\", \"message_sent\", \"help_sent\", \"first_session_length\", \"day7_rev\", \"day30_rev\", \"ltv\", \"log_ltv\"], \"z\": [[1.0, 0.582352071937584, 0.4187517033561457, 0.5212989564856648, 0.09902774355029419, 0.0805527753964023, 0.13392826019645257, 0.30721169275349686, 0.2355775799568024, 0.6532763296367774, 0.010219703842374118, 0.1749786868318095, 0.19112010681523608, 0.1301373586607667, 0.28803712530126013], [0.582352071937584, 1.0, 0.40806205353127356, 0.5730944708129703, 0.16339579018236045, 0.12479816877380784, 0.22094633170845274, 0.4796825289632736, 0.401709497369113, 0.7228243735637963, 0.3027355241700266, 0.3290168131718604, 0.31884362635591074, 0.2350582101137211, 0.38421417328339313], [0.4187517033561457, 0.40806205353127356, 1.0, 0.6931586065918763, 0.11415662897696435, 0.0869793227463541, 0.09943684466004836, 0.22522730644976144, 0.21036637758923218, 0.4147386094053589, 0.1590380029256641, 0.4064335769095941, 0.32607058335498174, 0.15394370890528747, 0.394281859386121], [0.5212989564856648, 0.5730944708129703, 0.6931586065918763, 1.0, 0.17395822520236878, 0.12995503086752608, 0.15222946305670448, 0.3165291671021229, 0.31207285235618004, 0.5178280047340521, 0.1921167779890658, 0.6026143574062328, 0.5131489277139745, 0.26329712784236253, 0.47256124453943693], [0.09902774355029419, 0.16339579018236045, 0.11415662897696435, 0.17395822520236878, 1.0, 0.8252207946283775, 0.022384733538977523, 0.04882940322329009, 0.11747411698120741, 0.03588473328790437, 0.08632101714063109, 0.06750250818271568, 0.0470557536412936, 0.0018149383243269385, 0.03889992018536774], [0.0805527753964023, 0.12479816877380784, 0.0869793227463541, 0.12995503086752608, 0.8252207946283775, 1.0, 0.010849725545119752, 0.02022579167261997, 0.07930292013927757, 0.012423925415286002, 0.07183830274320577, 0.0061295143416291884, 0.003718300079553091, -0.009172663570015683, 0.011308210379666922], [0.13392826019645257, 0.22094633170845274, 0.09943684466004836, 0.15222946305670448, 0.022384733538977523, 0.010849725545119752, 1.0, 0.7063317768736684, 0.6172881396846917, 0.25687760240911334, 0.027036768134291254, 0.22026786607415483, 0.09917294937997524, 0.048366576789043825, 0.07650967831386982], [0.30721169275349686, 0.4796825289632736, 0.22522730644976144, 0.3165291671021229, 0.04882940322329009, 0.02022579167261997, 0.7063317768736684, 1.0, 0.6982398780448507, 0.5462302944714076, 0.10326153920636048, 0.3141526026750583, 0.22435493916405186, 0.12859860894669117, 0.20608855053590935], [0.2355775799568024, 0.401709497369113, 0.21036637758923218, 0.31207285235618004, 0.11747411698120741, 0.07930292013927757, 0.6172881396846917, 0.6982398780448507, 1.0, 0.39153433002104, 0.07346712342854102, 0.30298490353223473, 0.2424544932403164, 0.1243170246927538, 0.18396258714841254], [0.6532763296367774, 0.7228243735637963, 0.4147386094053589, 0.5178280047340521, 0.03588473328790437, 0.012423925415286002, 0.25687760240911334, 0.5462302944714076, 0.39153433002104, 1.0, 0.15355166830422612, 0.2655507681180323, 0.24183299873076508, 0.13838500147030605, 0.3239964553476867], [0.010219703842374118, 0.3027355241700266, 0.1590380029256641, 0.1921167779890658, 0.08632101714063109, 0.07183830274320577, 0.027036768134291254, 0.10326153920636048, 0.07346712342854102, 0.15355166830422612, 1.0, 0.1371866929237675, 0.09182629548497478, 0.08710208090753889, 0.12309640274482367], [0.1749786868318095, 0.3290168131718604, 0.4064335769095941, 0.6026143574062328, 0.06750250818271568, 0.0061295143416291884, 0.22026786607415483, 0.3141526026750583, 0.30298490353223473, 0.2655507681180323, 0.1371866929237675, 1.0, 0.8488310152065276, 0.4640620302013324, 0.564063273467449], [0.19112010681523608, 0.31884362635591074, 0.32607058335498174, 0.5131489277139745, 0.0470557536412936, 0.003718300079553091, 0.09917294937997524, 0.22435493916405186, 0.2424544932403164, 0.24183299873076508, 0.09182629548497478, 0.8488310152065276, 1.0, 0.5841135438458762, 0.5704383102854137], [0.1301373586607667, 0.2350582101137211, 0.15394370890528747, 0.26329712784236253, 0.0018149383243269385, -0.009172663570015683, 0.048366576789043825, 0.12859860894669117, 0.1243170246927538, 0.13838500147030605, 0.08710208090753889, 0.4640620302013324, 0.5841135438458762, 1.0, 0.5534640359273999], [0.28803712530126013, 0.38421417328339313, 0.394281859386121, 0.47256124453943693, 0.03889992018536774, 0.011308210379666922, 0.07650967831386982, 0.20608855053590935, 0.18396258714841254, 0.3239964553476867, 0.12309640274482367, 0.564063273467449, 0.5704383102854137, 0.5534640359273999, 1.0]], \"type\": \"heatmap\", \"uid\": \"d8fe2440-a1ba-11e8-9dcd-309c238a18ed\"}],\n",
       "            {\"height\": 700, \"margin\": {\"l\": 240}, \"title\": \"Pearson Correlation of features\", \"width\": 900, \"xaxis\": {\"nticks\": 36, \"ticks\": \"\"}, \"yaxis\": {\"ticks\": \"\"}},\n",
       "            {\"showLink\": true, \"linkText\": \"Export to plot.ly\"}\n",
       "        ).then(function () {return Plotly.addFrames('4fc033cf-68a3-475e-b545-2e566f0a1055',{});}).then(function(){Plotly.animate('4fc033cf-68a3-475e-b545-2e566f0a1055');})\n",
       "        });</script>"
      ]
     },
     "metadata": {},
     "output_type": "display_data"
    }
   ],
   "source": [
    "useful_data['log_ltv'] = useful_data[\"ltv\"].apply(lambda x: np.log1p(x))\n",
    "import plotly.offline as py\n",
    "import plotly.graph_objs as go\n",
    "py.init_notebook_mode(connected=True)\n",
    "corr = useful_data.corr()\n",
    "data = [\n",
    "    go.Heatmap(\n",
    "        z= corr.values,\n",
    "        x=useful_data.columns.values,\n",
    "        y=useful_data.columns.values,\n",
    "        reversescale = False,\n",
    "        opacity = 1.0 )\n",
    "]\n",
    "\n",
    "layout = go.Layout(\n",
    "    title='Pearson Correlation of features',\n",
    "    xaxis = dict(ticks='', nticks=36),\n",
    "    yaxis = dict(ticks='' ),\n",
    "    width = 900, height = 700,\n",
    "margin=dict(\n",
    "    l=240,\n",
    "),)\n",
    "\n",
    "fig = go.Figure(data=data, layout=layout)\n",
    "py.iplot(fig, filename='labelled-heatmap')"
   ]
  },
  {
   "cell_type": "code",
   "execution_count": 20,
   "metadata": {},
   "outputs": [],
   "source": [
    "# list some features may need to be removed\n",
    "toRemove = ['alliance_power', 'alliance_territory', 'realm_chat_sent']"
   ]
  },
  {
   "cell_type": "markdown",
   "metadata": {},
   "source": [
    "### Modeling\n",
    "\n",
    "Use ridge as a start to model\n",
    "\n",
    "use cross validation to avoid overfitting\n",
    "\n",
    "use r^2 to evaluate"
   ]
  },
  {
   "cell_type": "code",
   "execution_count": 21,
   "metadata": {},
   "outputs": [],
   "source": [
    "from sklearn.linear_model import Ridge\n",
    "from sklearn.model_selection import train_test_split\n",
    "from sklearn.preprocessing import MinMaxScaler\n",
    "def train(random_state):\n",
    "    X_train, X_test, y_train, y_test = train_test_split(\n",
    "         X, y, test_size=0.4, random_state=random_state)\n",
    "    ridge = Ridge(alpha=1.0, fit_intercept=True, normalize=False, max_iter=None, tol=0.001, solver='auto', random_state=None)\n",
    "    ridge.fit(X_train, y_train)\n",
    "    # R^2\n",
    "    return ridge.score(X_test, y_test)\n",
    "\n",
    "def cv(random_state_list):\n",
    "    score = 0\n",
    "    for random_state in random_state_list:\n",
    "        score += train(random_state)\n",
    "    return score / len(random_state_list)"
   ]
  },
  {
   "cell_type": "code",
   "execution_count": 22,
   "metadata": {},
   "outputs": [
    {
     "data": {
      "text/plain": [
       "0.347162913647072"
      ]
     },
     "execution_count": 22,
     "metadata": {},
     "output_type": "execute_result"
    }
   ],
   "source": [
    "y = useful_data['log_ltv']\n",
    "X = useful_data.drop(['log_ltv', 'ltv'], axis = 1)\n",
    "X.fillna(X.mean(), inplace = True)\n",
    "\n",
    "seeds = [40, 7, 17, 80, 2018, 831, 723, 666, 815]\n",
    "cv(seeds)"
   ]
  },
  {
   "cell_type": "code",
   "execution_count": 23,
   "metadata": {},
   "outputs": [
    {
     "data": {
      "text/plain": [
       "0.3473885423524133"
      ]
     },
     "execution_count": 23,
     "metadata": {},
     "output_type": "execute_result"
    }
   ],
   "source": [
    "y = useful_data['log_ltv']\n",
    "X = useful_data.drop(['log_ltv', 'ltv'], axis = 1)\n",
    "X = X.drop(toRemove, axis = 1)\n",
    "X.fillna(X.mean(), inplace = True)\n",
    "\n",
    "seeds = [40, 7, 17, 80, 2018, 831, 723, 666, 815]\n",
    "cv(seeds)"
   ]
  },
  {
   "cell_type": "markdown",
   "metadata": {},
   "source": [
    "after remove low corr features 'alliance_power', 'alliance_territory', 'realm_chat_sent', \n",
    "\n",
    "the r^2 is a little improved."
   ]
  },
  {
   "cell_type": "code",
   "execution_count": null,
   "metadata": {},
   "outputs": [],
   "source": []
  },
  {
   "cell_type": "code",
   "execution_count": null,
   "metadata": {},
   "outputs": [],
   "source": []
  }
 ],
 "metadata": {
  "kernelspec": {
   "display_name": "Python 3",
   "language": "python",
   "name": "python3"
  },
  "language_info": {
   "codemirror_mode": {
    "name": "ipython",
    "version": 3
   },
   "file_extension": ".py",
   "mimetype": "text/x-python",
   "name": "python",
   "nbconvert_exporter": "python",
   "pygments_lexer": "ipython3",
   "version": "3.6.4"
  }
 },
 "nbformat": 4,
 "nbformat_minor": 2
}
