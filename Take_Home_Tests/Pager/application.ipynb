{
 "cells": [
  {
   "cell_type": "markdown",
   "metadata": {},
   "source": [
    "#### How to integrate your ML model into this existing architecture?\n",
    "first of all, since there are missing Style recipe, I can assume, user can submit recipe without Style successfully.\n",
    "1. using a websocket, once an new recipe submitted without a Style, it will go through the model, make a prediction and send back to user as a suggested Style.\n",
    "2. using a websocket, once an new recipe submitted without a Style, it will go through the model, make a prediction and save to the database.\n",
    "3. save it to seperate table, run a schedule job to make prediction periodically (e.g. daily), and save the save the predicted recipe to normal table.\n",
    "\n",
    "approach 3 is the most appropriate in this situation.\n",
    "1. it's cheapest\n",
    "2. time sensitivity is very low in this situation, recipe without Style only covers very low proportion."
   ]
  },
  {
   "cell_type": "code",
   "execution_count": 1,
   "metadata": {},
   "outputs": [],
   "source": [
    "import numpy as np\n",
    "import pandas as pd\n",
    "from sklearn.preprocessing import LabelEncoder\n",
    "from sklearn.impute import SimpleImputer \n",
    "from sklearn.preprocessing import StandardScaler\n",
    "import lightgbm\n",
    "from lightgbm import LGBMClassifier\n",
    "import pickle\n",
    "import warnings\n",
    "warnings.filterwarnings(\"ignore\")"
   ]
  },
  {
   "cell_type": "markdown",
   "metadata": {},
   "source": [
    "### test case\n",
    "use null Style samples as a test to test the application, in production, data can be parse in by different ways."
   ]
  },
  {
   "cell_type": "code",
   "execution_count": 2,
   "metadata": {},
   "outputs": [],
   "source": [
    "# load data and correct some dtypes of IDs\n",
    "recipe = pd.read_csv('recipeData.csv', index_col='BeerID', \n",
    "                     dtype={'UserId':'object','StyleID':'object'}, \n",
    "                     encoding='latin1')\n",
    "# Let's remove records withount Style\n",
    "test = recipe[recipe['Style'].isnull()]"
   ]
  },
  {
   "cell_type": "markdown",
   "metadata": {},
   "source": [
    "### load model"
   ]
  },
  {
   "cell_type": "code",
   "execution_count": 3,
   "metadata": {},
   "outputs": [],
   "source": [
    "with open('prep_steps.pkl', 'rb') as f:\n",
    "    prep_steps = pickle.load(f)\n",
    "with open('lgbmodel.pkl', 'rb') as f:\n",
    "    lgb = pickle.load(f)"
   ]
  },
  {
   "cell_type": "markdown",
   "metadata": {},
   "source": [
    "### prediction"
   ]
  },
  {
   "cell_type": "code",
   "execution_count": 4,
   "metadata": {},
   "outputs": [],
   "source": [
    "def prep_pipeline(prep_steps, data):\n",
    "    for _col in prep_steps['col_too_many_missing']:\n",
    "        data.loc[:,'valid_'+_col] = data[_col].notnull()\n",
    "        data.drop(_col, axis=1, inplace = True)\n",
    "    data.loc[:, 'URL'] = data.loc[:,'URL'].apply(lambda x: x.split('/')[-1])\n",
    "\n",
    "    for w in prep_steps['use_words_features']:\n",
    "        data.loc[:,w] = data['URL'].apply(lambda x: 1 if w in x else 0)\n",
    "    fs = prep_steps['num_features'] + prep_steps['use_words_features'] + prep_steps['cat_features']\n",
    "    data = data.loc[:, fs]\n",
    "\n",
    "    for _col, encoder in prep_steps['cat_encoder'].items():\n",
    "        data.loc[:,_col] = encoder.transform(data[_col])\n",
    "\n",
    "    for _col, imputer in prep_steps['missing_imputer'].items():\n",
    "        data[_col] = imputer.transform(data[_col].values.reshape(-1,1))\n",
    "\n",
    "    scaler = prep_steps['scaler']\n",
    "    data = scaler.transform(data)\n",
    "    return data"
   ]
  },
  {
   "cell_type": "code",
   "execution_count": 5,
   "metadata": {},
   "outputs": [],
   "source": [
    "test = prep_pipeline(prep_steps, test)\n",
    "pred = lgb.predict(test)"
   ]
  },
  {
   "cell_type": "code",
   "execution_count": 6,
   "metadata": {},
   "outputs": [
    {
     "data": {
      "text/plain": [
       "array(['19', '9', '86', '7', '9', '21', '7', '10', '92', '98', '15', '9',\n",
       "       '162', '7', '10', '114', '9', '170', '175', '10', '4', '58', '10',\n",
       "       '162', '10', '9', '9', '9', '150', '22', '7', '132', '12', '37',\n",
       "       '132', '7', '129', '132', '15', '132', '4', '10', '86', '169',\n",
       "       '22', '7', '27', '162', '12', '92', '15', '86', '15', '131', '168',\n",
       "       '9', '170', '87', '132', '6', '144', '132', '143', '162', '7', '7',\n",
       "       '27', '143', '170', '9', '7', '132', '143', '9', '129', '7', '86',\n",
       "       '7', '143', '10', '64', '143', '9', '59', '58', '170', '19', '7',\n",
       "       '162', '132', '39', '9', '10', '9', '26', '15', '10', '14', '163',\n",
       "       '4', '39', '9', '7', '4', '7', '91', '10', '85', '10', '68', '132',\n",
       "       '45', '143', '85', '37', '155', '7', '170', '7', '155', '44', '9',\n",
       "       '51', '10', '10', '15', '7', '82', '45', '9', '148', '85', '143',\n",
       "       '39', '15', '7', '10', '22', '163', '4', '143', '92', '10', '63',\n",
       "       '28', '12', '59', '7', '7', '10', '7', '10', '7', '129', '86',\n",
       "       '30', '170', '9', '39', '10', '10', '15', '160', '7', '10', '7',\n",
       "       '7', '7', '7', '7', '37', '7', '86', '9', '9', '86', '4', '9', '4',\n",
       "       '143', '10', '58', '113', '132', '59', '39', '39', '10', '170',\n",
       "       '7', '10', '19', '9', '9', '9', '7', '143', '9', '129', '27', '71',\n",
       "       '9', '15', '10', '30', '7', '134', '6', '134', '10', '170', '4',\n",
       "       '5', '9', '7', '5', '4', '113', '45', '7', '170', '10', '129', '7',\n",
       "       '132', '170', '115', '170', '115', '15', '10', '6', '7', '14', '7',\n",
       "       '7', '170', '110', '12', '7', '9', '22', '59', '9', '9', '9', '7',\n",
       "       '9', '169', '92', '10', '5', '39', '129', '10', '10', '4', '150',\n",
       "       '7', '9', '7', '30', '15', '27', '7', '170', '10', '9', '9', '155',\n",
       "       '6', '7', '10', '7', '10', '7', '59', '10', '10', '7', '10', '4',\n",
       "       '114', '117', '14', '7', '10', '170', '67', '86', '22', '10',\n",
       "       '150', '10', '4', '7', '7', '10', '22', '10', '148', '7', '132',\n",
       "       '7', '4', '4', '20', '7', '27', '134', '118', '30', '1', '114',\n",
       "       '30', '148', '67', '116', '10', '94', '4', '21', '30', '148', '94',\n",
       "       '9', '22', '14', '30', '21', '137', '7', '170', '72', '7', '7',\n",
       "       '14', '7', '10', '10', '90', '7', '7', '163', '6', '10', '10', '7',\n",
       "       '148', '14', '11', '86', '114', '94', '12', '44', '64', '81', '30',\n",
       "       '7', '10', '14', '10', '23', '10', '134', '105', '7', '40', '4',\n",
       "       '170', '72', '8', '167', '155', '150', '7', '94', '10', '169',\n",
       "       '10', '10', '7', '9', '152', '148', '9', '9', '9', '134', '94',\n",
       "       '119', '92', '45', '10', '132', '7', '10', '10', '115', '10',\n",
       "       '136', '4', '114', '169', '5', '87', '21', '86', '6', '9', '10',\n",
       "       '82', '6', '102', '6', '30', '4', '30', '15', '144', '7', '7',\n",
       "       '169', '10', '86', '10', '7', '7', '169', '132', '132', '26', '7',\n",
       "       '102', '175', '102', '7', '10', '10', '134', '6', '6', '8', '148',\n",
       "       '12', '10', '94', '136', '26', '132', '10', '10', '6', '7', '10',\n",
       "       '6', '162', '12', '170', '9', '4', '132', '94', '135', '7', '27',\n",
       "       '134', '172', '10', '9', '7', '14', '30', '10', '30', '6', '9',\n",
       "       '10', '10', '9', '30', '9', '30', '168', '72', '94', '7', '45',\n",
       "       '12', '94', '10', '169', '30', '30', '10', '10', '94', '61', '67',\n",
       "       '10', '7', '30', '108', '10', '161', '37', '132', '7', '49', '7',\n",
       "       '7', '175', '10', '30', '10', '7', '30', '80', '136', '7', '116',\n",
       "       '10', '134', '45', '7', '10', '7', '9', '4', '7', '10', '58',\n",
       "       '169', '30', '6', '10', '7', '30', '30', '7', '7', '114', '10',\n",
       "       '7', '167', '71', '170', '10', '30', '45', '80', '45', '10', '134',\n",
       "       '10', '87', '75', '10', '94', '82', '7', '150', '7', '150', '75',\n",
       "       '169', '7', '148', '10', '7', '86', '7', '10', '21', '94', '94',\n",
       "       '10', '7', '10', '131', '94', '175', '59', '5', '7', '7', '4',\n",
       "       '68', '4', '9', '134', '150', '27', '7', '94'], dtype=object)"
      ]
     },
     "execution_count": 6,
     "metadata": {},
     "output_type": "execute_result"
    }
   ],
   "source": [
    "pred"
   ]
  }
 ],
 "metadata": {
  "kernelspec": {
   "display_name": "Python 3",
   "language": "python",
   "name": "python3"
  },
  "language_info": {
   "codemirror_mode": {
    "name": "ipython",
    "version": 3
   },
   "file_extension": ".py",
   "mimetype": "text/x-python",
   "name": "python",
   "nbconvert_exporter": "python",
   "pygments_lexer": "ipython3",
   "version": "3.7.4"
  }
 },
 "nbformat": 4,
 "nbformat_minor": 2
}
